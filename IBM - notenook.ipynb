{
 "cells": [
  {
   "cell_type": "markdown",
   "metadata": {},
   "source": [
    "<center>\n",
    "    <img src=\"https://cf-courses-data.s3.us.cloud-object-storage.appdomain.cloud/IBMDeveloperSkillsNetwork-DS0105EN-SkillsNetwork/labs/Module2/images/SN_web_lightmode.png\" width=\"300\" alt=\"cognitiveclass.ai logo\">\n",
    "</center>\n"
   ]
  },
  {
   "cell_type": "markdown",
   "metadata": {},
   "source": [
    "#### Add your code below following the instructions given in the course\n"
   ]
  },
  {
   "cell_type": "markdown",
   "metadata": {},
   "source": [
    "# Data Science Tools and Ecosystem"
   ]
  },
  {
   "cell_type": "markdown",
   "metadata": {},
   "source": [
    "## Author\n",
    "\n",
    "Dylan Standen"
   ]
  },
  {
   "cell_type": "markdown",
   "metadata": {},
   "source": [
    "**Objectives:**\n",
    "- Introduce commonly used Data Science languages.\n",
    "- Introduce some of the most common data science tools for each language. \n",
    "- Name some common Open-Source languages for Data Science.\n",
    "- Cover a basic example of an arithmetic operation that can be evaluated in Python.\n",
    "- Define a simple function to show their applicability to arithemtic problems. "
   ]
  },
  {
   "cell_type": "markdown",
   "metadata": {},
   "source": [
    "In this Notebook, we summarise the differing Data Science tools and eco-systems."
   ]
  },
  {
   "cell_type": "markdown",
   "metadata": {},
   "source": [
    "Some of the most commonly used, and popular, languages used by Data Scientists are the following (in no particular order):\n",
    "\n",
    "1. R - A programming language which excels at statstical implementation and data visualtisation.\n",
    "2. SQL - A programming language used for data managment, especially structured data.\n",
    "3. Python - A high-level language, excellent for its broad applicability, numerous data science libraries, and readability.\n"
   ]
  },
  {
   "cell_type": "markdown",
   "metadata": {},
   "source": [
    "Within these programmes one can install libraries to allow for the use of specific tools and functions. Some of the most common include (for each respective language):\n",
    "\n",
    "1. R - ggplot2, dplyr, readxl, randomForest, and forecast.\n",
    "2. SQL - (These are techncially tools) DDL, Aggregations, and MADlib. \n",
    "3. Python - Pandas, Numpy, Matplotlib, SciPy, TensorFlow, and PyTorch."
   ]
  },
  {
   "cell_type": "markdown",
   "metadata": {},
   "source": [
    "| Data Science Tools| \n",
    "|-------------------|\n",
    "| Jupyter Notebook  |\n",
    "| RStudio           |\n",
    "| Apache Zeppelin   |\n"
   ]
  },
  {
   "cell_type": "markdown",
   "metadata": {},
   "source": [
    "### Next we introduce some examples of arithmetic expressions that can be evaluated in Python."
   ]
  },
  {
   "cell_type": "code",
   "execution_count": 9,
   "metadata": {},
   "outputs": [
    {
     "data": {
      "text/plain": [
       "17"
      ]
     },
     "execution_count": 9,
     "metadata": {},
     "output_type": "execute_result"
    }
   ],
   "source": [
    "# This a simple arithmetic expression to multiply then add integers\n",
    "\n",
    "(3*4) + 5"
   ]
  },
  {
   "cell_type": "code",
   "execution_count": 10,
   "metadata": {},
   "outputs": [
    {
     "name": "stdout",
     "output_type": "stream",
     "text": [
      "3.0 hours and 20 minutes\n",
      "None\n"
     ]
    }
   ],
   "source": [
    "# This function converts 200 minutes to hours by diving by 60\n",
    "\n",
    "def minutestohours(mins):\n",
    "   #conversion\n",
    "   hours_decimal =  mins/60\n",
    "   minutes_decimal = hours_decimal % 1\n",
    "   minutes = round(minutes_decimal * 60)\n",
    "   hours = hours_decimal - minutes_decimal\n",
    "   #prints text\n",
    "   text = print(hours, \"hours and\", minutes, \"minutes\")\n",
    "   return text \n",
    "\n",
    "print(minutestohours(200))"
   ]
  },
  {
   "cell_type": "code",
   "execution_count": null,
   "metadata": {},
   "outputs": [],
   "source": []
  }
 ],
 "metadata": {
  "kernelspec": {
   "display_name": "Python 3 (ipykernel)",
   "language": "python",
   "name": "python3"
  },
  "language_info": {
   "codemirror_mode": {
    "name": "ipython",
    "version": 3
   },
   "file_extension": ".py",
   "mimetype": "text/x-python",
   "name": "python",
   "nbconvert_exporter": "python",
   "pygments_lexer": "ipython3",
   "version": "3.12.8"
  }
 },
 "nbformat": 4,
 "nbformat_minor": 4
}
